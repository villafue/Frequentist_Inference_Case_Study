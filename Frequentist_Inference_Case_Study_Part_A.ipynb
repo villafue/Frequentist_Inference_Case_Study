{
  "nbformat": 4,
  "nbformat_minor": 0,
  "metadata": {
    "kernelspec": {
      "display_name": "Python 3",
      "language": "python",
      "name": "python3"
    },
    "language_info": {
      "codemirror_mode": {
        "name": "ipython",
        "version": 3
      },
      "file_extension": ".py",
      "mimetype": "text/x-python",
      "name": "python",
      "nbconvert_exporter": "python",
      "pygments_lexer": "ipython3",
      "version": "3.7.3"
    },
    "colab": {
      "name": "Frequentist Inference Case Study - Part A (3).ipynb",
      "provenance": [],
      "include_colab_link": true
    }
  },
  "cells": [
    {
      "cell_type": "markdown",
      "metadata": {
        "id": "view-in-github",
        "colab_type": "text"
      },
      "source": [
        "<a href=\"https://colab.research.google.com/github/villafue/Frequentist_Inference_Case_Study/blob/master/Frequentist_Inference_Case_Study_Part_A.ipynb\" target=\"_parent\"><img src=\"https://colab.research.google.com/assets/colab-badge.svg\" alt=\"Open In Colab\"/></a>"
      ]
    },
    {
      "cell_type": "markdown",
      "metadata": {
        "id": "CaA8-Cz3Sdx8",
        "colab_type": "text"
      },
      "source": [
        "# Frequentist Inference Case Study - Part A "
      ]
    },
    {
      "cell_type": "markdown",
      "metadata": {
        "id": "9DyINe3aSdx9",
        "colab_type": "text"
      },
      "source": [
        "## 1. Learning objectives"
      ]
    },
    {
      "cell_type": "markdown",
      "metadata": {
        "id": "hRr4r1uFSdx_",
        "colab_type": "text"
      },
      "source": [
        "Welcome to part A of the Frequentist inference case study! The purpose of this case study is to help you apply the concepts associated with Frequentist inference in Python. Frequentist inference is the process of deriving conclusions about an underlying distribution via the observation of data. In particular, you'll practice writing Python code to apply the following statistical concepts: \n",
        "* the _z_-statistic\n",
        "* the _t_-statistic\n",
        "* the difference and relationship between the two\n",
        "* the Central Limit Theorem, including its assumptions and consequences\n",
        "* how to estimate the population mean and standard deviation from a sample\n",
        "* the concept of a sampling distribution of a test statistic, particularly for the mean\n",
        "* how to combine these concepts to calculate a confidence interval"
      ]
    },
    {
      "cell_type": "markdown",
      "metadata": {
        "id": "TkDQ2mwJSdyA",
        "colab_type": "text"
      },
      "source": [
        "## Prerequisites"
      ]
    },
    {
      "cell_type": "markdown",
      "metadata": {
        "id": "yqLlBTx5SdyA",
        "colab_type": "text"
      },
      "source": [
        "To be able to complete this notebook, you are expected to have a basic understanding of:\n",
        "* what a random variable is (p.400 of Professor Spiegelhalter's *The Art of Statistics, hereinafter AoS*)\n",
        "* what a population, and a population distribution, are (p. 397 of *AoS*)\n",
        "* a high-level sense of what the normal distribution is (p. 394 of *AoS*)\n",
        "* what the t-statistic is (p. 275 of *AoS*)\n",
        "\n",
        "Happily, these should all be concepts with which you are reasonably familiar after having read ten chapters of Professor Spiegelhalter's book, *The Art of Statistics*.\n",
        "\n",
        "We'll try to relate the concepts in this case study back to page numbers in *The Art of Statistics* so that you can focus on the Python aspects of this case study. The second part (part B) of this case study will involve another, more real-world application of these tools. "
      ]
    },
    {
      "cell_type": "markdown",
      "metadata": {
        "id": "XtGJGMbWSdyB",
        "colab_type": "text"
      },
      "source": [
        "For this notebook, we will use data sampled from a known normal distribution. This allows us to compare our results with theoretical expectations."
      ]
    },
    {
      "cell_type": "markdown",
      "metadata": {
        "id": "dXzM1QHkSdyB",
        "colab_type": "text"
      },
      "source": [
        "## 2. An introduction to sampling from the normal distribution"
      ]
    },
    {
      "cell_type": "markdown",
      "metadata": {
        "id": "mj2orwGdSdyC",
        "colab_type": "text"
      },
      "source": [
        "First, let's explore the ways we can generate the normal distribution. While there's a fair amount of interest in [sklearn](https://scikit-learn.org/stable/) within the machine learning community, you're likely to have heard of [scipy](https://docs.scipy.org/doc/scipy-0.15.1/reference/index.html) if you're coming from the sciences. For this assignment, you'll use [scipy.stats](https://docs.scipy.org/doc/scipy-0.15.1/reference/tutorial/stats.html) to complete your work. \n",
        "\n",
        "This assignment will require some digging around and getting your hands dirty (your learning is maximized that way)! You should have the research skills and the tenacity to do these tasks independently, but if you struggle, reach out to your immediate community and your mentor for help. "
      ]
    },
    {
      "cell_type": "code",
      "metadata": {
        "id": "jsYFxTIqSdyC",
        "colab_type": "code",
        "colab": {}
      },
      "source": [
        "from scipy.stats import norm\n",
        "from scipy.stats import t\n",
        "import numpy as np\n",
        "import pandas as pd\n",
        "from numpy.random import seed\n",
        "import matplotlib.pyplot as plt"
      ],
      "execution_count": 34,
      "outputs": []
    },
    {
      "cell_type": "markdown",
      "metadata": {
        "id": "G16zitYhSdyG",
        "colab_type": "text"
      },
      "source": [
        "__Q1:__ Call up the documentation for the `norm` function imported above. (Hint: that documentation is [here](https://docs.scipy.org/doc/scipy/reference/generated/scipy.stats.norm.html)). What is the second listed method?"
      ]
    },
    {
      "cell_type": "code",
      "metadata": {
        "id": "8V2m3qQuSdyH",
        "colab_type": "code",
        "colab": {
          "base_uri": "https://localhost:8080/",
          "height": 34
        },
        "outputId": "2e2bdd43-b212-474b-b252-35791b314aac"
      },
      "source": [
        "'''\n",
        "pdf(x, loc=0, scale=1)\n",
        "\n",
        "Probability density function.\n",
        "'''"
      ],
      "execution_count": 35,
      "outputs": [
        {
          "output_type": "execute_result",
          "data": {
            "application/vnd.google.colaboratory.intrinsic+json": {
              "type": "string"
            },
            "text/plain": [
              "'\\npdf(x, loc=0, scale=1)\\n\\nProbability density function.\\n'"
            ]
          },
          "metadata": {
            "tags": []
          },
          "execution_count": 35
        }
      ]
    },
    {
      "cell_type": "markdown",
      "metadata": {
        "id": "MdPB2Rb0SdyJ",
        "colab_type": "text"
      },
      "source": [
        "__A:__\n"
      ]
    },
    {
      "cell_type": "markdown",
      "metadata": {
        "id": "TPuFRtcCSdyK",
        "colab_type": "text"
      },
      "source": [
        "__Q2:__ Use the method that generates random variates to draw five samples from the standard normal distribution. "
      ]
    },
    {
      "cell_type": "markdown",
      "metadata": {
        "id": "Sr3acAaKSdyK",
        "colab_type": "text"
      },
      "source": [
        "__A:__"
      ]
    },
    {
      "cell_type": "code",
      "metadata": {
        "id": "BWrfw0zESdyL",
        "colab_type": "code",
        "colab": {
          "base_uri": "https://localhost:8080/",
          "height": 34
        },
        "outputId": "c802f384-9a52-4bbd-d1be-cc436e9db209"
      },
      "source": [
        "seed(47)\n",
        "# draw five samples here\n",
        "r = norm.rvs(size=5)\n",
        "print(r)\n"
      ],
      "execution_count": 36,
      "outputs": [
        {
          "output_type": "stream",
          "text": [
            "[-0.84800948  1.30590636  0.92420797  0.6404118  -1.05473698]\n"
          ],
          "name": "stdout"
        }
      ]
    },
    {
      "cell_type": "markdown",
      "metadata": {
        "id": "naTTtfXXSdyN",
        "colab_type": "text"
      },
      "source": [
        "__Q3:__ What is the mean of this sample? Is it exactly equal to the value you expected? Hint: the sample was drawn from the standard normal distribution. If you want a reminder of the properties of this distribution, check out p. 85 of *AoS*. "
      ]
    },
    {
      "cell_type": "markdown",
      "metadata": {
        "id": "Z0TGAqyhSdyN",
        "colab_type": "text"
      },
      "source": [
        "__A:__"
      ]
    },
    {
      "cell_type": "code",
      "metadata": {
        "id": "p2iNjTBuSdyO",
        "colab_type": "code",
        "colab": {
          "base_uri": "https://localhost:8080/",
          "height": 50
        },
        "outputId": "02be2019-4a68-405c-b32d-a302708181aa"
      },
      "source": [
        "# Calculate and print the mean here, hint: use np.mean()\n",
        "print(r.mean())\n",
        "print(np.mean(r))\n"
      ],
      "execution_count": 37,
      "outputs": [
        {
          "output_type": "stream",
          "text": [
            "0.19355593334131074\n",
            "0.19355593334131074\n"
          ],
          "name": "stdout"
        }
      ]
    },
    {
      "cell_type": "markdown",
      "metadata": {
        "id": "1zc-3s1WSdyQ",
        "colab_type": "text"
      },
      "source": [
        "__Q4:__ What is the standard deviation of these numbers? Calculate this manually here as $\\sqrt{\\frac{\\sum_i(x_i - \\bar{x})^2}{n}}$ (This is just the definition of **standard deviation** given by Professor Spiegelhalter on p.403 of *AoS*). Hint: np.sqrt() and np.sum() will be useful here and remember that numPy supports [broadcasting](https://docs.scipy.org/doc/numpy/user/basics.broadcasting.html)."
      ]
    },
    {
      "cell_type": "markdown",
      "metadata": {
        "id": "JrSzmA3fSdyR",
        "colab_type": "text"
      },
      "source": [
        "__A:__"
      ]
    },
    {
      "cell_type": "code",
      "metadata": {
        "id": "IMJOIGM5SdyR",
        "colab_type": "code",
        "colab": {
          "base_uri": "https://localhost:8080/",
          "height": 67
        },
        "outputId": "2ff018dc-f4a8-42b1-8dfb-4038611341e7"
      },
      "source": [
        "print(r.std())\n",
        "print(np.std(r))\n",
        "waste_of_time_manual_std = r # Sorry this made me laugh\n",
        "\n",
        "def mean(waste_of_time_manual_std):\n",
        "    return float(sum(waste_of_time_manual_std) / len(waste_of_time_manual_std))\n",
        "\n",
        "def variance(waste_of_time_manual_std):\n",
        "    mu = mean(waste_of_time_manual_std)\n",
        "    return mean([(x - mu) ** 2 for x in waste_of_time_manual_std])\n",
        "\n",
        "def stddev(waste_of_time_manual_std):\n",
        "    return np.sqrt(variance(waste_of_time_manual_std))\n",
        "print(stddev(r))"
      ],
      "execution_count": 38,
      "outputs": [
        {
          "output_type": "stream",
          "text": [
            "0.9606195639478641\n",
            "0.9606195639478641\n",
            "0.9606195639478641\n"
          ],
          "name": "stdout"
        }
      ]
    },
    {
      "cell_type": "markdown",
      "metadata": {
        "id": "7MidueVRSdyU",
        "colab_type": "text"
      },
      "source": [
        "Here we have calculated the actual standard deviation of a small data set (of size 5). But in this case, this small data set is actually a sample from our larger (infinite) population. In this case, the population is infinite because we could keep drawing our normal random variates until our computers die! \n",
        "\n",
        "In general, the sample mean we calculate will not be equal to the population mean (as we saw above). A consequence of this is that the sum of squares of the deviations from the _population_ mean will be bigger than the sum of squares of the deviations from the _sample_ mean. In other words, the sum of squares of the deviations from the _sample_ mean is too small to give an unbiased estimate of the _population_ variance. An example of this effect is given [here](https://en.wikipedia.org/wiki/Bessel%27s_correction#Source_of_bias). Scaling our estimate of the variance by the factor $n/(n-1)$ gives an unbiased estimator of the population variance. This factor is known as [Bessel's correction](https://en.wikipedia.org/wiki/Bessel%27s_correction). The consequence of this is that the $n$ in the denominator is replaced by $n-1$.\n",
        "\n",
        "You can see Bessel's correction reflected in Professor Spiegelhalter's definition of **variance** on p. 405 of *AoS*.\n",
        "\n",
        "__Q5:__ If all we had to go on was our five samples, what would be our best estimate of the population standard deviation? Use Bessel's correction ($n-1$ in the denominator), thus $\\sqrt{\\frac{\\sum_i(x_i - \\bar{x})^2}{n-1}}$."
      ]
    },
    {
      "cell_type": "markdown",
      "metadata": {
        "id": "2Bw8wz7USdyU",
        "colab_type": "text"
      },
      "source": [
        "__A:__"
      ]
    },
    {
      "cell_type": "code",
      "metadata": {
        "id": "V4QJUbCASdyU",
        "colab_type": "code",
        "colab": {
          "base_uri": "https://localhost:8080/",
          "height": 67
        },
        "outputId": "3fe7daec-9f70-4bcd-e430-f9ece7d7dc2c"
      },
      "source": [
        "print(np.std(r))\n",
        "print(np.std(r, ddof=1))\n",
        "b = r\n",
        "def mean_b(b):\n",
        "    return float(sum(b) / (len(b) - 1))\n",
        "\n",
        "def variance_b(b):\n",
        "    mu = mean(b)\n",
        "    return mean_b([(x - mu) ** 2 for x in b])\n",
        "\n",
        "def stddev_b(b):\n",
        "    return np.sqrt(variance_b(b))\n",
        "stddev_b(b)"
      ],
      "execution_count": 39,
      "outputs": [
        {
          "output_type": "stream",
          "text": [
            "0.9606195639478641\n",
            "1.0740053227518152\n"
          ],
          "name": "stdout"
        },
        {
          "output_type": "execute_result",
          "data": {
            "text/plain": [
              "1.0740053227518152"
            ]
          },
          "metadata": {
            "tags": []
          },
          "execution_count": 39
        }
      ]
    },
    {
      "cell_type": "markdown",
      "metadata": {
        "id": "5jILEVBwSdyX",
        "colab_type": "text"
      },
      "source": [
        "__Q6:__ Now use numpy's std function to calculate the standard deviation of our random samples. Which of the above standard deviations did it return?"
      ]
    },
    {
      "cell_type": "markdown",
      "metadata": {
        "id": "Xy7XtH_kSdyX",
        "colab_type": "text"
      },
      "source": [
        "__A:__"
      ]
    },
    {
      "cell_type": "code",
      "metadata": {
        "id": "Ucl3zzknSdyY",
        "colab_type": "code",
        "colab": {
          "base_uri": "https://localhost:8080/",
          "height": 34
        },
        "outputId": "0f1a9ad7-5058-40a2-e5c8-f92b099060b8"
      },
      "source": [
        "print(np.std(r))"
      ],
      "execution_count": 40,
      "outputs": [
        {
          "output_type": "stream",
          "text": [
            "0.9606195639478641\n"
          ],
          "name": "stdout"
        }
      ]
    },
    {
      "cell_type": "markdown",
      "metadata": {
        "id": "qmci1X8DSdya",
        "colab_type": "text"
      },
      "source": [
        "__Q7:__ Consult the documentation for np.std() to see how to apply the correction for estimating the population parameter and verify this produces the expected result."
      ]
    },
    {
      "cell_type": "markdown",
      "metadata": {
        "id": "yJ1jD5u7Sdyb",
        "colab_type": "text"
      },
      "source": [
        "__A:__"
      ]
    },
    {
      "cell_type": "code",
      "metadata": {
        "id": "bPbmIW8bSdyc",
        "colab_type": "code",
        "colab": {
          "base_uri": "https://localhost:8080/",
          "height": 34
        },
        "outputId": "708138e8-da2c-48d3-956a-d6ba82f1aeb5"
      },
      "source": [
        "print(np.std(r, ddof=1))"
      ],
      "execution_count": 41,
      "outputs": [
        {
          "output_type": "stream",
          "text": [
            "1.0740053227518152\n"
          ],
          "name": "stdout"
        }
      ]
    },
    {
      "cell_type": "markdown",
      "metadata": {
        "id": "3-Rb1lMqSdyg",
        "colab_type": "text"
      },
      "source": [
        "### Summary of section"
      ]
    },
    {
      "cell_type": "markdown",
      "metadata": {
        "id": "iPwWKIwPSdyg",
        "colab_type": "text"
      },
      "source": [
        "In this section, you've been introduced to the scipy.stats package and used it to draw a small sample from the standard normal distribution. You've calculated the average (the mean) of this sample and seen that this is not exactly equal to the expected population parameter (which we know because we're generating the random variates from a specific, known distribution). You've been introduced to two ways of calculating the standard deviation; one uses $n$ in the denominator and the other uses $n-1$ (Bessel's correction). You've also seen which of these calculations np.std() performs by default and how to get it to generate the other."
      ]
    },
    {
      "cell_type": "markdown",
      "metadata": {
        "id": "F129lMaeSdyh",
        "colab_type": "text"
      },
      "source": [
        "You use $n$ as the denominator if you want to calculate the standard deviation of a sequence of numbers. You use $n-1$ if you are using this sequence of numbers to estimate the population parameter. This brings us to some terminology that can be a little confusing.\n",
        "\n",
        "The population parameter is traditionally written as $\\sigma$ and the sample statistic as $s$. Rather unhelpfully, $s$ is also called the sample standard deviation (using $n-1$) whereas the standard deviation of the sample uses $n$. That's right, we have the sample standard deviation and the standard deviation of the sample and they're not the same thing!\n",
        "\n",
        "The sample standard deviation\n",
        "\\begin{equation}\n",
        "s = \\sqrt{\\frac{\\sum_i(x_i - \\bar{x})^2}{n-1}} \\approx \\sigma,\n",
        "\\end{equation}\n",
        "is our best (unbiased) estimate of the population parameter ($\\sigma$).\n",
        "\n",
        "If your dataset _is_ your entire population, you simply want to calculate the population parameter, $\\sigma$, via\n",
        "\\begin{equation}\n",
        "\\sigma = \\sqrt{\\frac{\\sum_i(x_i - \\bar{x})^2}{n}}\n",
        "\\end{equation}\n",
        "as you have complete, full knowledge of your population. In other words, your sample _is_ your population. It's worth noting that we're dealing with what Professor Spiegehalter describes on p. 92 of *AoS* as a **metaphorical population**: we have all the data, and we act as if the data-point is taken from a population at random. We can think of this population as an imaginary space of possibilities. \n",
        "\n",
        "If, however, you have sampled _from_ your population, you only have partial knowledge of the state of your population. In this case, the standard deviation of your sample is not an unbiased estimate of the standard deviation of the population, in which case you seek to estimate that population parameter via the sample standard deviation, which uses the $n-1$ denominator."
      ]
    },
    {
      "cell_type": "markdown",
      "metadata": {
        "id": "_hdVZv78Sdyh",
        "colab_type": "text"
      },
      "source": [
        "Great work so far! Now let's dive deeper."
      ]
    },
    {
      "cell_type": "markdown",
      "metadata": {
        "id": "LSQAD-ejSdyh",
        "colab_type": "text"
      },
      "source": [
        "## 3. Sampling distributions"
      ]
    },
    {
      "cell_type": "markdown",
      "metadata": {
        "id": "daEhCkxbSdyi",
        "colab_type": "text"
      },
      "source": [
        "So far we've been dealing with the concept of taking a sample from a population to infer the population parameters. One statistic we calculated for a sample was the mean. As our samples will be expected to vary from one draw to another, so will our sample statistics. If we were to perform repeat draws of size $n$ and calculate the mean of each, we would expect to obtain a distribution of values. This is the sampling distribution of the mean. **The Central Limit Theorem (CLT)** tells us that such a distribution will approach a normal distribution as $n$ increases (the intuitions behind the CLT are covered in full on p. 236 of *AoS*). For the sampling distribution of the mean, the standard deviation of this distribution is given by\n",
        "\n",
        "\\begin{equation}\n",
        "\\sigma_{mean} = \\frac{\\sigma}{\\sqrt n}\n",
        "\\end{equation}\n",
        "\n",
        "where $\\sigma_{mean}$ is the standard deviation of the sampling distribution of the mean and $\\sigma$ is the standard deviation of the population (the population parameter)."
      ]
    },
    {
      "cell_type": "markdown",
      "metadata": {
        "id": "O39E9ic0Sdyi",
        "colab_type": "text"
      },
      "source": [
        "This is important because typically we are dealing with samples from populations and all we know about the population is what we see in the sample. From this sample, we want to make inferences about the population. We may do this, for example, by looking at the histogram of the values and by calculating the mean and standard deviation (as estimates of the population parameters), and so we are intrinsically interested in how these quantities vary across samples. \n",
        "\n",
        "In other words, now that we've taken one sample of size $n$ and made some claims about the general population, what if we were to take another sample of size $n$? Would we get the same result? Would we make the same claims about the general population? This brings us to a fundamental question: _when we make some inference about a population based on our sample, how confident can we be that we've got it 'right'?_\n",
        "\n",
        "We need to think about **estimates and confidence intervals**: those concepts covered in Chapter 7, p. 189, of *AoS*."
      ]
    },
    {
      "cell_type": "markdown",
      "metadata": {
        "id": "R978g24_Sdyj",
        "colab_type": "text"
      },
      "source": [
        "Now, the standard normal distribution (with its variance equal to its standard deviation of one) would not be a great illustration of a key point. Instead, let's imagine we live in a town of 50,000 people and we know the height of everyone in this town. We will have 50,000 numbers that tell us everything about our population. We'll simulate these numbers now and put ourselves in one particular town, called 'town 47', where the population mean height is 172 cm and population standard deviation is 5 cm."
      ]
    },
    {
      "cell_type": "code",
      "metadata": {
        "id": "FfUq0ajiSdyj",
        "colab_type": "code",
        "colab": {}
      },
      "source": [
        "seed(47)\n",
        "pop_heights = norm.rvs(172, 5, size=50000)"
      ],
      "execution_count": 42,
      "outputs": []
    },
    {
      "cell_type": "code",
      "metadata": {
        "id": "pZ31ftMBSdyl",
        "colab_type": "code",
        "colab": {
          "base_uri": "https://localhost:8080/",
          "height": 295
        },
        "outputId": "6ba1d3b5-9941-4c8d-926c-84422beb8ddf"
      },
      "source": [
        "_ = plt.hist(pop_heights, bins=30)\n",
        "_ = plt.xlabel('height (cm)')\n",
        "_ = plt.ylabel('number of people')\n",
        "_ = plt.title('Distribution of heights in entire town population')\n",
        "_ = plt.axvline(172, color='r')\n",
        "_ = plt.axvline(172+5, color='r', linestyle='--')\n",
        "_ = plt.axvline(172-5, color='r', linestyle='--')\n",
        "_ = plt.axvline(172+10, color='r', linestyle='-.')\n",
        "_ = plt.axvline(172-10, color='r', linestyle='-.')"
      ],
      "execution_count": 43,
      "outputs": [
        {
          "output_type": "display_data",
          "data": {
            "image/png": "[encoded data removed]",
            "text/plain": [
              "<Figure size 432x288 with 1 Axes>"
            ]
          },
          "metadata": {
            "tags": [],
            "needs_background": "light"
          }
        }
      ]
    },
    {
      "cell_type": "markdown",
      "metadata": {
        "id": "7t_5eXGNSdyq",
        "colab_type": "text"
      },
      "source": [
        "Now, 50,000 people is rather a lot to chase after with a tape measure. If all you want to know is the average height of the townsfolk, then can you just go out and measure a sample to get a pretty good estimate of the average height?"
      ]
    },
    {
      "cell_type": "code",
      "metadata": {
        "id": "R4QcJhFeSdyr",
        "colab_type": "code",
        "colab": {}
      },
      "source": [
        "def townsfolk_sampler(n):\n",
        "    return np.random.choice(pop_heights, n)"
      ],
      "execution_count": 44,
      "outputs": []
    },
    {
      "cell_type": "markdown",
      "metadata": {
        "id": "RvycP8OqSdyt",
        "colab_type": "text"
      },
      "source": [
        "Let's say you go out one day and randomly sample 10 people to measure."
      ]
    },
    {
      "cell_type": "code",
      "metadata": {
        "id": "xgIPNCkaSdyu",
        "colab_type": "code",
        "colab": {}
      },
      "source": [
        "seed(47)\n",
        "daily_sample1 = townsfolk_sampler(10)"
      ],
      "execution_count": 45,
      "outputs": []
    },
    {
      "cell_type": "code",
      "metadata": {
        "id": "Jfl-94etSdyw",
        "colab_type": "code",
        "colab": {
          "base_uri": "https://localhost:8080/",
          "height": 295
        },
        "outputId": "33af112b-c48a-4769-ef47-9ca6a8157d94"
      },
      "source": [
        "_ = plt.hist(daily_sample1, bins=10)\n",
        "_ = plt.xlabel('height (cm)')\n",
        "_ = plt.ylabel('number of people')\n",
        "_ = plt.title('Distribution of heights in sample size 10')"
      ],
      "execution_count": 46,
      "outputs": [
        {
          "output_type": "display_data",
          "data": {
            "image/png": "[encoded data removed]",
            "text/plain": [
              "<Figure size 432x288 with 1 Axes>"
            ]
          },
          "metadata": {
            "tags": [],
            "needs_background": "light"
          }
        }
      ]
    },
    {
      "cell_type": "markdown",
      "metadata": {
        "id": "vXUE1m5kSdyy",
        "colab_type": "text"
      },
      "source": [
        "The sample distribution doesn't resemble what we take the population distribution to be. What do we get for the mean?"
      ]
    },
    {
      "cell_type": "code",
      "metadata": {
        "id": "5lkvMNSqSdyy",
        "colab_type": "code",
        "colab": {
          "base_uri": "https://localhost:8080/",
          "height": 34
        },
        "outputId": "1b62ef0c-4d54-45f1-9c91-6a5b3a117d91"
      },
      "source": [
        "np.mean(daily_sample1)"
      ],
      "execution_count": 47,
      "outputs": [
        {
          "output_type": "execute_result",
          "data": {
            "text/plain": [
              "173.47911444163503"
            ]
          },
          "metadata": {
            "tags": []
          },
          "execution_count": 47
        }
      ]
    },
    {
      "cell_type": "markdown",
      "metadata": {
        "id": "-I6zjsM_Sdy0",
        "colab_type": "text"
      },
      "source": [
        "And if we went out and repeated this experiment?"
      ]
    },
    {
      "cell_type": "code",
      "metadata": {
        "id": "5W1lrI1MSdy0",
        "colab_type": "code",
        "colab": {}
      },
      "source": [
        "daily_sample2 = townsfolk_sampler(10)"
      ],
      "execution_count": 48,
      "outputs": []
    },
    {
      "cell_type": "code",
      "metadata": {
        "id": "W1boX68fSdy4",
        "colab_type": "code",
        "colab": {
          "base_uri": "https://localhost:8080/",
          "height": 34
        },
        "outputId": "d5352690-6209-45f5-d5d6-aa95ab0a6365"
      },
      "source": [
        "np.mean(daily_sample2)"
      ],
      "execution_count": 49,
      "outputs": [
        {
          "output_type": "execute_result",
          "data": {
            "text/plain": [
              "173.7317666636263"
            ]
          },
          "metadata": {
            "tags": []
          },
          "execution_count": 49
        }
      ]
    },
    {
      "cell_type": "markdown",
      "metadata": {
        "id": "1SEsxHhFSdy6",
        "colab_type": "text"
      },
      "source": [
        "__Q8:__ Simulate performing this random trial every day for a year, calculating the mean of each daily sample of 10, and plot the resultant sampling distribution of the mean."
      ]
    },
    {
      "cell_type": "markdown",
      "metadata": {
        "id": "5V3iYJ7hSdy7",
        "colab_type": "text"
      },
      "source": [
        "__A:__"
      ]
    },
    {
      "cell_type": "code",
      "metadata": {
        "id": "DQhTsFpuSdy-",
        "colab_type": "code",
        "colab": {
          "base_uri": "https://localhost:8080/",
          "height": 295
        },
        "outputId": "15ee12e4-999d-4603-f923-69cd14301afe"
      },
      "source": [
        "seed(47)\n",
        "# take your samples here\n",
        "yearly_mean, sims = [], 366\n",
        "for i in range(sims):\n",
        "    daily_sample = np.random.choice(pop_heights, replace=True, size=10)\n",
        "    sample_mean = np.mean(daily_sample)\n",
        "    yearly_mean.append(sample_mean)\n",
        "\n",
        "_ = plt.hist(yearly_mean, bins=10)\n",
        "_ = plt.xlabel('height (cm)')\n",
        "_ = plt.ylabel('number of people')\n",
        "_ = plt.title('Distribution of heights in sample size 10')\n",
        "\n",
        "# mean_lengths, sims = [], 1000\n",
        "# for i in range(sims):\n",
        "#     temp_sample = np.random.choice(wrench_lengths, replace=True, size=len(wrench_lengths))\n",
        "#     sample_mean = np.mean(temp_sample)\n",
        "#     mean_lengths.append(sample_mean)\n"
      ],
      "execution_count": 50,
      "outputs": [
        {
          "output_type": "display_data",
          "data": {
            "image/png": "[encoded data removed]",
            "text/plain": [
              "<Figure size 432x288 with 1 Axes>"
            ]
          },
          "metadata": {
            "tags": [],
            "needs_background": "light"
          }
        }
      ]
    },
    {
      "cell_type": "markdown",
      "metadata": {
        "id": "pVHJF7jDSdzB",
        "colab_type": "text"
      },
      "source": [
        "The above is the distribution of the means of samples of size 10 taken from our population. The Central Limit Theorem tells us the expected mean of this distribution will be equal to the population mean, and standard deviation will be $\\sigma / \\sqrt n$, which, in this case, should be approximately 1.58."
      ]
    },
    {
      "cell_type": "markdown",
      "metadata": {
        "id": "2w6oXLtGSdzC",
        "colab_type": "text"
      },
      "source": [
        "__Q9:__ Verify the above results from the CLT."
      ]
    },
    {
      "cell_type": "markdown",
      "metadata": {
        "id": "LE635ChxSdzC",
        "colab_type": "text"
      },
      "source": [
        "__A:__"
      ]
    },
    {
      "cell_type": "code",
      "metadata": {
        "id": "2dHcP7WXSdzC",
        "colab_type": "code",
        "colab": {
          "base_uri": "https://localhost:8080/",
          "height": 50
        },
        "outputId": "257ffb0e-3a30-4e1b-8413-dc2afa8058ed"
      },
      "source": [
        "print(pop_heights.mean())\n",
        "yearly_mean = np.array(yearly_mean)\n",
        "print(yearly_mean.mean())"
      ],
      "execution_count": 51,
      "outputs": [
        {
          "output_type": "stream",
          "text": [
            "172.0192602425845\n",
            "171.86028560411918\n"
          ],
          "name": "stdout"
        }
      ]
    },
    {
      "cell_type": "code",
      "metadata": {
        "id": "ucYEW_3GSdzE",
        "colab_type": "code",
        "colab": {
          "base_uri": "https://localhost:8080/",
          "height": 50
        },
        "outputId": "c8187b04-427e-433c-a24c-69ef1bb1040a"
      },
      "source": [
        "print(pop_heights.std())\n",
        "print(yearly_mean.std(ddof=1))"
      ],
      "execution_count": 52,
      "outputs": [
        {
          "output_type": "stream",
          "text": [
            "4.990839139566387\n",
            "1.5794649057910481\n"
          ],
          "name": "stdout"
        }
      ]
    },
    {
      "cell_type": "markdown",
      "metadata": {
        "id": "_9woZKqbSdzG",
        "colab_type": "text"
      },
      "source": [
        "Remember, in this instance, we knew our population parameters, that the average height really is 172 cm and the standard deviation is 5 cm, and we see some of our daily estimates of the population mean were as low as around 168 and some as high as 176."
      ]
    },
    {
      "cell_type": "markdown",
      "metadata": {
        "id": "8dJPqt-bSdzG",
        "colab_type": "text"
      },
      "source": [
        "__Q10:__ Repeat the above year's worth of samples but for a sample size of 50 (perhaps you had a bigger budget for conducting surveys that year)! Would you expect your distribution of sample means to be wider (more variable) or narrower (more consistent)? Compare your resultant summary statistics to those predicted by the CLT."
      ]
    },
    {
      "cell_type": "markdown",
      "metadata": {
        "id": "M16PGGWOSdzH",
        "colab_type": "text"
      },
      "source": [
        "__A:__"
      ]
    },
    {
      "cell_type": "code",
      "metadata": {
        "id": "N6sGoCl1SdzI",
        "colab_type": "code",
        "colab": {
          "base_uri": "https://localhost:8080/",
          "height": 295
        },
        "outputId": "184f9449-2c6d-480e-8929-a82c6b4dbde0"
      },
      "source": [
        "seed(47)\n",
        "# calculate daily means from the larger sample size here\n",
        "yearly_mean_big, sims = [], 366\n",
        "for i in range(sims):\n",
        "    daily_sample = np.random.choice(pop_heights, replace=True, size=50)\n",
        "    sample_mean = np.mean(daily_sample)\n",
        "    yearly_mean_big.append(sample_mean)\n",
        "\n",
        "_ = plt.hist(yearly_mean_big, bins=10)\n",
        "_ = plt.xlabel('height (cm)')\n",
        "_ = plt.ylabel('number of people')\n",
        "_ = plt.title('Distribution of heights in sample size 50')"
      ],
      "execution_count": 53,
      "outputs": [
        {
          "output_type": "display_data",
          "data": {
            "image/png": "[encoded data removed]",
            "text/plain": [
              "<Figure size 432x288 with 1 Axes>"
            ]
          },
          "metadata": {
            "tags": [],
            "needs_background": "light"
          }
        }
      ]
    },
    {
      "cell_type": "code",
      "metadata": {
        "id": "h_j7F8wYSdzL",
        "colab_type": "code",
        "colab": {
          "base_uri": "https://localhost:8080/",
          "height": 67
        },
        "outputId": "8b458b1f-6f50-4204-b28f-a5084c564380"
      },
      "source": [
        "print('                     CLT Mean: ',pop_heights.mean())\n",
        "print('Yearly Mean Sample 10 per Day: ',yearly_mean.mean())\n",
        "yearly_mean_big = np.array(yearly_mean_big)\n",
        "print('Yearly Mean Sample 50 per Day: ',yearly_mean_big.mean())"
      ],
      "execution_count": 54,
      "outputs": [
        {
          "output_type": "stream",
          "text": [
            "                     CLT Mean:  172.0192602425845\n",
            "Yearly Mean Sample 10 per Day:  171.86028560411918\n",
            "Yearly Mean Sample 50 per Day:  171.94583920261863\n"
          ],
          "name": "stdout"
        }
      ]
    },
    {
      "cell_type": "code",
      "metadata": {
        "id": "52SKi4YtAmpO",
        "colab_type": "code",
        "colab": {
          "base_uri": "https://localhost:8080/",
          "height": 67
        },
        "outputId": "1b1f2bb4-5f24-44e0-873a-e24e3e7ad7ca"
      },
      "source": [
        "print('                     CLT STD: ',pop_heights.std())\n",
        "print('Yearly STD Sample 10 per Day: ',yearly_mean.std(ddof=1))\n",
        "print('Yearly STD Sample 50 per Day: ',yearly_mean_big.std(ddof=1))"
      ],
      "execution_count": 55,
      "outputs": [
        {
          "output_type": "stream",
          "text": [
            "                     CLT STD:  4.990839139566387\n",
            "Yearly STD Sample 10 per Day:  1.5794649057910481\n",
            "Yearly STD Sample 50 per Day:  0.6748987061492396\n"
          ],
          "name": "stdout"
        }
      ]
    },
    {
      "cell_type": "markdown",
      "metadata": {
        "id": "DSNBWPaTSdzN",
        "colab_type": "text"
      },
      "source": [
        "What we've seen so far, then, is that we can estimate population parameters from a sample from the population, and that samples have their own distributions. Furthermore, the larger the sample size, the narrower are those sampling distributions."
      ]
    },
    {
      "cell_type": "markdown",
      "metadata": {
        "id": "G8qgfF94SdzN",
        "colab_type": "text"
      },
      "source": [
        "### Normally testing time!"
      ]
    },
    {
      "cell_type": "markdown",
      "metadata": {
        "id": "QEOa28cySdzN",
        "colab_type": "text"
      },
      "source": [
        "All of the above is well and good. We've been sampling from a population we know is normally distributed, we've come to understand when to use $n$ and when to use $n-1$ in the denominator to calculate the spread of a distribution, and we've  seen the Central Limit Theorem in action for a sampling distribution. All seems very well behaved in Frequentist land. But, well, why should we really care?"
      ]
    },
    {
      "cell_type": "markdown",
      "metadata": {
        "id": "Rlc-vWLKSdzO",
        "colab_type": "text"
      },
      "source": [
        "Remember, we rarely (if ever) actually know our population parameters but we still have to estimate them somehow. If we want to make inferences to conclusions like \"this observation is unusual\" or \"my population mean has changed\" then we need to have some idea of what the underlying distribution is so we can calculate relevant probabilities. In frequentist inference, we use the formulae above to deduce these population parameters. Take a moment in the next part of this assignment to refresh your understanding of how these probabilities work."
      ]
    },
    {
      "cell_type": "markdown",
      "metadata": {
        "id": "oHEFcbaFSdzO",
        "colab_type": "text"
      },
      "source": [
        "Recall some basic properties of the standard normal distribution, such as that about 68% of observations are within plus or minus 1 standard deviation of the mean. Check out the precise definition of a normal distribution on p. 394 of *AoS*. \n",
        "\n",
        "__Q11:__ Using this fact, calculate the probability of observing the value 1 or less in a single observation from the standard normal distribution. Hint: you may find it helpful to sketch the standard normal distribution (the familiar bell shape) and mark the number of standard deviations from the mean on the x-axis and shade the regions of the curve that contain certain percentages of the population."
      ]
    },
    {
      "cell_type": "markdown",
      "metadata": {
        "id": "2kgNf8t4SdzP",
        "colab_type": "text"
      },
      "source": [
        "## __A:__ 84.2%\n"
      ]
    },
    {
      "cell_type": "markdown",
      "metadata": {
        "id": "kJVUZZFWSdzP",
        "colab_type": "text"
      },
      "source": [
        "Calculating this probability involved calculating the area under the curve from the value of 1 and below. To put it in mathematical terms, we need to *integrate* the probability density function. We could just add together the known areas of chunks (from -Inf to 0 and then 0 to $+\\sigma$ in the example above). One way to do this is to look up tables (literally). Fortunately, scipy has this functionality built in with the cdf() function."
      ]
    },
    {
      "cell_type": "markdown",
      "metadata": {
        "id": "-12oEBw6SdzP",
        "colab_type": "text"
      },
      "source": [
        "__Q12:__ Use the cdf() function to answer the question above again and verify you get the same answer."
      ]
    },
    {
      "cell_type": "markdown",
      "metadata": {
        "id": "lpRUv61mSdzQ",
        "colab_type": "text"
      },
      "source": [
        "__A:__\n"
      ]
    },
    {
      "cell_type": "code",
      "metadata": {
        "id": "NcVGLPZUSdzQ",
        "colab_type": "code",
        "colab": {
          "base_uri": "https://localhost:8080/",
          "height": 34
        },
        "outputId": "3833e0c0-6571-467a-b9ab-032c17141436"
      },
      "source": [
        "norm.cdf(1)"
      ],
      "execution_count": 56,
      "outputs": [
        {
          "output_type": "execute_result",
          "data": {
            "text/plain": [
              "0.8413447460685429"
            ]
          },
          "metadata": {
            "tags": []
          },
          "execution_count": 56
        }
      ]
    },
    {
      "cell_type": "markdown",
      "metadata": {
        "id": "jaVJo4pZSdzS",
        "colab_type": "text"
      },
      "source": [
        "__Q13:__ Using our knowledge of the population parameters for our townsfolks' heights, what is the probability of selecting one person at random and their height being 177 cm or less? Calculate this using both of the approaches given above."
      ]
    },
    {
      "cell_type": "markdown",
      "metadata": {
        "id": "wn1aY480SdzS",
        "colab_type": "text"
      },
      "source": [
        "# __A:__ It is also about 84% as 177cm is 1 standard deviation above the mean of 172cm. (5cm = 1 standard deviation)"
      ]
    },
    {
      "cell_type": "code",
      "metadata": {
        "id": "uekNoQ7ZSdzS",
        "colab_type": "code",
        "colab": {
          "base_uri": "https://localhost:8080/",
          "height": 34
        },
        "outputId": "b6ca64f7-c407-4d3b-880d-da82b53707ff"
      },
      "source": [
        "norm.cdf(1)"
      ],
      "execution_count": 57,
      "outputs": [
        {
          "output_type": "execute_result",
          "data": {
            "text/plain": [
              "0.8413447460685429"
            ]
          },
          "metadata": {
            "tags": []
          },
          "execution_count": 57
        }
      ]
    },
    {
      "cell_type": "markdown",
      "metadata": {
        "id": "aHmuIhdBSdzU",
        "colab_type": "text"
      },
      "source": [
        "__Q14:__ Turning this question around — suppose we randomly pick one person and measure their height and find they are 2.00 m tall. How surprised should we be at this result, given what we know about the population distribution? In other words, how likely would it be to obtain a value at least as extreme as this? Express this as a probability. "
      ]
    },
    {
      "cell_type": "markdown",
      "metadata": {
        "id": "eiO1tlkISdzV",
        "colab_type": "text"
      },
      "source": [
        "## __A:__ I calculated the number below by subtracting 200cm by the mean of 172cm. This equated to 28cm. Divide that by the standard deviation of 5cm and that equals a z=score of about 5.6. Plugging that into the cdf formula means I have virtually 0 chance of finding a person that tall."
      ]
    },
    {
      "cell_type": "code",
      "metadata": {
        "id": "6mdgztBYSdzV",
        "colab_type": "code",
        "colab": {
          "base_uri": "https://localhost:8080/",
          "height": 34
        },
        "outputId": "abe2488c-78ec-4763-b079-0309ea032370"
      },
      "source": [
        "norm.cdf(5.6)"
      ],
      "execution_count": 58,
      "outputs": [
        {
          "output_type": "execute_result",
          "data": {
            "text/plain": [
              "0.9999999892824097"
            ]
          },
          "metadata": {
            "tags": []
          },
          "execution_count": 58
        }
      ]
    },
    {
      "cell_type": "code",
      "metadata": {
        "id": "ucjIEt-jU9xh",
        "colab_type": "code",
        "colab": {
          "base_uri": "https://localhost:8080/",
          "height": 34
        },
        "outputId": "26fad172-1d26-40b6-a0d2-b77cf5826dc7"
      },
      "source": [
        "norm.cdf(200, loc=np.mean(pop_heights), scale=np.std(pop_heights))"
      ],
      "execution_count": 59,
      "outputs": [
        {
          "output_type": "execute_result",
          "data": {
            "text/plain": [
              "0.9999999896722737"
            ]
          },
          "metadata": {
            "tags": []
          },
          "execution_count": 59
        }
      ]
    },
    {
      "cell_type": "markdown",
      "metadata": {
        "id": "4y16E5AySdzX",
        "colab_type": "text"
      },
      "source": [
        "What we've just done is calculate the ***p-value*** of the observation of someone 2.00m tall (review *p*-values if you need to on p. 399 of *AoS*). We could calculate this probability by virtue of knowing the population parameters. We were then able to use the known properties of the relevant normal distribution to calculate the probability of observing a value at least as extreme as our test value."
      ]
    },
    {
      "cell_type": "markdown",
      "metadata": {
        "id": "c1qnnvP0SdzY",
        "colab_type": "text"
      },
      "source": [
        "We're about to come to a pinch, though. We've said a couple of times that we rarely, if ever, know the true population parameters; we have to estimate them from our sample and we cannot even begin to estimate the standard deviation from a single observation. \n",
        "\n",
        "This is very true and usually we have sample sizes larger than one. This means we can calculate the mean of the sample as our best estimate of the population mean and the standard deviation as our best estimate of the population standard deviation. \n",
        "\n",
        "In other words, we are now coming to deal with the sampling distributions we mentioned above as we are generally concerned with the properties of the sample means we obtain. \n",
        "\n",
        "Above, we highlighted one result from the CLT, whereby the sampling distribution (of the mean) becomes narrower and narrower with the square root of the sample size. We remind ourselves that another result from the CLT is that _even if the underlying population distribution is not normal, the sampling distribution will tend to become normal with sufficiently large sample size_. (**Check out p. 199 of AoS if you need to revise this**). This is the key driver for us 'requiring' a certain sample size, for example you may frequently see a minimum sample size of 30 stated in many places. In reality this is simply a rule of thumb; if the underlying distribution is approximately normal then your sampling distribution will already be pretty normal, but if the underlying distribution is heavily skewed then you'd want to increase your sample size."
      ]
    },
    {
      "cell_type": "markdown",
      "metadata": {
        "id": "ItbeVGz-SdzY",
        "colab_type": "text"
      },
      "source": [
        "__Q15:__ Let's now start from the position of knowing nothing about the heights of people in our town.\n",
        "* Use the random seed of 47, to randomly sample the heights of 50 townsfolk\n",
        "* Estimate the population mean using np.mean\n",
        "* Estimate the population standard deviation using np.std (remember which denominator to use!)\n",
        "* Calculate the (95%) [margin of error](https://www.statisticshowto.datasciencecentral.com/probability-and-statistics/hypothesis-testing/margin-of-error/#WhatMofE) (use the exact critial z value to 2 decimal places - [look this up](https://www.statisticshowto.datasciencecentral.com/probability-and-statistics/find-critical-values/) or use norm.ppf()) Recall that the ***margin of error*** is mentioned on p. 189 of the *AoS* and discussed in depth in that chapter). \n",
        "* Calculate the 95% Confidence Interval of the mean (***confidence intervals*** are defined on p. 385 of *AoS*) \n",
        "* Does this interval include the true population mean?"
      ]
    },
    {
      "cell_type": "markdown",
      "metadata": {
        "id": "iL83WU-ZSdzZ",
        "colab_type": "text"
      },
      "source": [
        "__A:__"
      ]
    },
    {
      "cell_type": "code",
      "metadata": {
        "id": "ImhI2Kl6SdzZ",
        "colab_type": "code",
        "colab": {
          "base_uri": "https://localhost:8080/",
          "height": 329
        },
        "outputId": "bd12f915-6b93-461e-eebf-95f2653cd193"
      },
      "source": [
        "seed(47)\n",
        "# take your sample now\n",
        "ts50 = townsfolk_sampler(50)\n",
        "print('Estimated Mean: ', np.mean(ts50))\n",
        "print(' Estimated STD: ', np.std(ts50, ddof=1))\n",
        "\n",
        "_ = plt.hist(ts50, bins=10)\n",
        "_ = plt.xlabel('height (cm)')\n",
        "_ = plt.ylabel('number of people')\n",
        "_ = plt.title('Distribution of heights in sample size 50')"
      ],
      "execution_count": 60,
      "outputs": [
        {
          "output_type": "stream",
          "text": [
            "Estimated Mean:  172.7815108576788\n",
            " Estimated STD:  4.195424364433547\n"
          ],
          "name": "stdout"
        },
        {
          "output_type": "display_data",
          "data": {
            "image/png": "[encoded data removed]",
            "text/plain": [
              "<Figure size 432x288 with 1 Axes>"
            ]
          },
          "metadata": {
            "tags": [],
            "needs_background": "light"
          }
        }
      ]
    },
    {
      "cell_type": "code",
      "metadata": {
        "id": "4rYo53ZtSdzb",
        "colab_type": "code",
        "colab": {
          "base_uri": "https://localhost:8080/",
          "height": 67
        },
        "outputId": "52291839-b6f7-4f70-9afd-17fa3ee252f6"
      },
      "source": [
        "'''\n",
        "These are my steps for calculating the Margin of Error:\n",
        "\n",
        "1. Calculate my critical value. This is based on the Confidence Level. For example:\n",
        "  For a Confidence Level of 95% (alpha = 0.95), I subtract the alpha from 1.\n",
        "  (1 - 0.95 = 0.05). Then, I divide that by 2 because I have to keep in mind that\n",
        "  there are two symmetrical sides to a normal distribution, and the confidence level\n",
        "  is the area inbetween the two extreme tails. (0.05 / 2 = 0.025). Last, I subtract\n",
        "  that value from 1 (1 - 0.025 = .975 or 97.5%). This is because this value is going\n",
        "  to be the exact location where 97.5% lies below it. It is essentially a locator\n",
        "  value and it is known as the critical value.\n",
        "\n",
        "2. Use a table or norm.ppf(.975) to find the critical value. It is 1.96\n",
        "\n",
        "3. Find the Standard Error. This is found by dividing my sample standard deviation\n",
        "  by the square root of the number of samples. (4.2 / sqroot of 50 = 0.59)\n",
        "\n",
        "4. Multiply the critical value by the standard error (1.96 * 0.59 = 1.156)\n",
        "'''\n",
        "crit_val = norm.ppf(.975)\n",
        "stan_err = np.std(ts50, ddof=1) / np.sqrt(len(ts50))\n",
        "marg_err = crit_val * stan_err\n",
        "print(' Critical Value: ', crit_val)\n",
        "print(' Standard Error: ', stan_err)\n",
        "print('Margin of Error: ', marg_err)"
      ],
      "execution_count": 61,
      "outputs": [
        {
          "output_type": "stream",
          "text": [
            " Critical Value:  1.959963984540054\n",
            " Standard Error:  0.5933226036092445\n",
            "Margin of Error:  1.1628909342876539\n"
          ],
          "name": "stdout"
        }
      ]
    },
    {
      "cell_type": "code",
      "metadata": {
        "id": "e4IW_6hGSdze",
        "colab_type": "code",
        "colab": {
          "base_uri": "https://localhost:8080/",
          "height": 50
        },
        "outputId": "e8ae0ef1-2152-486f-debf-d47dfb46fe6c"
      },
      "source": [
        "'''\n",
        "The Confidence Interval is calculated by both adding and subtracting the Margin of\n",
        "Error from the mean of the sample (or population). (172.78 +- 1.13 = (171.65, 173.90)) \n",
        "'''\n",
        "conf_int_low = np.mean(ts50) - marg_err\n",
        "conf_int_high = np.mean(ts50) + marg_err\n",
        "print('The Lower limit of the Confidence Interval is: ', conf_int_low)\n",
        "print('The Upper limit of the Confidence Interval is: ', conf_int_high)"
      ],
      "execution_count": 62,
      "outputs": [
        {
          "output_type": "stream",
          "text": [
            "The Lower limit of the Confidence Interval is:  171.61861992339115\n",
            "The Upper limit of the Confidence Interval is:  173.94440179196644\n"
          ],
          "name": "stdout"
        }
      ]
    },
    {
      "cell_type": "code",
      "metadata": {
        "id": "I8BiN8daSdzi",
        "colab_type": "code",
        "colab": {
          "base_uri": "https://localhost:8080/",
          "height": 67
        },
        "outputId": "41760530-7112-462e-c32d-63c350362223"
      },
      "source": [
        "print('             True Population Mean: ', pop_heights.mean())\n",
        "print('95% Confidence Interval of Sample: ',conf_int_low,conf_int_high)\n",
        "print('Yes, the true population mean falls within the 95% confidence level of our sample.')\n"
      ],
      "execution_count": 63,
      "outputs": [
        {
          "output_type": "stream",
          "text": [
            "             True Population Mean:  172.0192602425845\n",
            "95% Confidence Interval of Sample:  171.61861992339115 173.94440179196644\n",
            "Yes, the true population mean falls within the 95% confidence level of our sample.\n"
          ],
          "name": "stdout"
        }
      ]
    },
    {
      "cell_type": "markdown",
      "metadata": {
        "id": "uMfdDKXoSdzl",
        "colab_type": "text"
      },
      "source": [
        "__Q16:__ Above, we calculated the confidence interval using the critical z value. What is the problem with this? What requirement, or requirements, are we (strictly) failing?"
      ]
    },
    {
      "cell_type": "markdown",
      "metadata": {
        "id": "mzzd-Nw3Sdzl",
        "colab_type": "text"
      },
      "source": [
        "# __A:__ This is a sample. We needed to use the t-test, t-statistic, etc. z-scores are for populations.\n"
      ]
    },
    {
      "cell_type": "markdown",
      "metadata": {
        "id": "e7IepOb1Sdzm",
        "colab_type": "text"
      },
      "source": [
        "__Q17:__ Calculate the 95% confidence interval for the mean using the _t_ distribution. Is this wider or narrower than that based on the normal distribution above? If you're unsure, you may find this [resource](https://www.statisticshowto.datasciencecentral.com/probability-and-statistics/confidence-interval/) useful. For calculating the critical value, remember how you could calculate this for the normal distribution using norm.ppf()."
      ]
    },
    {
      "cell_type": "markdown",
      "metadata": {
        "id": "y38knAOySdzm",
        "colab_type": "text"
      },
      "source": [
        "__A:__ Confidence Interval For a Sample: Steps\n",
        "\n",
        "Step 1: Subtract 1 from your sample size. 50 – 1 = 49. This gives you degrees of freedom, which you’ll need in step 3\n",
        "\n",
        "Step 2: Subtract the confidence level from 1, then divide by two.\n",
        "(1 – .95) / 2 = .025\n",
        "\n",
        "Step 3: Look up your answers to step 1 and 2 in the t-distribution table. Ex. for 9 degrees of freedom (df) and α = 0.025, my result is 2.262. For 49, I will use t.ppf(p, df) which is t.ppf(0.975, 49) = 2.01\n",
        "\n",
        "Step 4: Divide your sample standard deviation by the square root of your sample size.\n",
        "4.195 / √(50) = 0.593\n",
        "\n",
        "Step 5: Multiply step 3 by step 4.\n",
        "2.01 × 0.593 = 1.192\n",
        "\n"
      ]
    },
    {
      "cell_type": "code",
      "metadata": {
        "id": "_N2vamDESdzm",
        "colab_type": "code",
        "colab": {
          "base_uri": "https://localhost:8080/",
          "height": 50
        },
        "outputId": "d208c78a-b67a-4aea-d2fc-5fdbfd3e2c5c"
      },
      "source": [
        "# Below is just an Example of how to do T-Critical Value\n",
        "# Student t-distribution Percent Point Function\n",
        "from scipy.stats import t\n",
        "# define probability\n",
        "# I believe that this is wrong as it should be .975?\n",
        "p = 0.95\n",
        "df = 10\n",
        "# retrieve value <= probability\n",
        "value = t.ppf(p, df)\n",
        "print(value)\n",
        "# confirm with cdf\n",
        "p = t.cdf(value, df)\n",
        "print(p)"
      ],
      "execution_count": 64,
      "outputs": [
        {
          "output_type": "stream",
          "text": [
            "1.8124611228107335\n",
            "0.949999999999923\n"
          ],
          "name": "stdout"
        }
      ]
    },
    {
      "cell_type": "code",
      "metadata": {
        "id": "6tPbbqaySdzp",
        "colab_type": "code",
        "colab": {
          "base_uri": "https://localhost:8080/",
          "height": 101
        },
        "outputId": "bbde33e0-8b68-4035-a4fd-d6e695ff92cc"
      },
      "source": [
        "t_crit_val = t.ppf(.975, 49)\n",
        "marg_err_t = t_crit_val * stan_err\n",
        "t_conf_int_low = np.mean(ts50) - marg_err_t\n",
        "t_conf_int_high = np.mean(ts50) + marg_err_t\n",
        "print('           The Lower limit of the Confidence Interval is: ', t_conf_int_low)\n",
        "print('           The Upper limit of the Confidence Interval is: ', t_conf_int_high)\n",
        "print('                                    True Population Mean: ', pop_heights.mean())\n",
        "print('                       95% Confidence Interval of Sample: ',t_conf_int_low,t_conf_int_high)\n",
        "print('Yes, the true population mean falls within the 95% confidence level of our sample.')"
      ],
      "execution_count": 65,
      "outputs": [
        {
          "output_type": "stream",
          "text": [
            "           The Lower limit of the Confidence Interval is:  171.589184447403\n",
            "           The Upper limit of the Confidence Interval is:  173.9738372679546\n",
            "                                    True Population Mean:  172.0192602425845\n",
            "                       95% Confidence Interval of Sample:  171.589184447403 173.9738372679546\n",
            "Yes, the true population mean falls within the 95% confidence level of our sample.\n"
          ],
          "name": "stdout"
        }
      ]
    },
    {
      "cell_type": "code",
      "metadata": {
        "id": "1vHovMnUSdzr",
        "colab_type": "code",
        "colab": {
          "base_uri": "https://localhost:8080/",
          "height": 50
        },
        "outputId": "7776dd8d-d11e-48e0-ecda-ce52cac167ac"
      },
      "source": [
        "print('95% Confidence Interval of Sample using Z-Critical Value: ',conf_int_low,conf_int_high)\n",
        "print('95% Confidence Interval of Sample using t-Critical Value: ',t_conf_int_low,t_conf_int_high)"
      ],
      "execution_count": 66,
      "outputs": [
        {
          "output_type": "stream",
          "text": [
            "95% Confidence Interval of Sample using Z-Critical Value:  171.61861992339115 173.94440179196644\n",
            "95% Confidence Interval of Sample using t-Critical Value:  171.589184447403 173.9738372679546\n"
          ],
          "name": "stdout"
        }
      ]
    },
    {
      "cell_type": "markdown",
      "metadata": {
        "id": "sJnSpeRjSdzt",
        "colab_type": "text"
      },
      "source": [
        "This is slightly wider than the previous confidence interval. This reflects the greater uncertainty given that we are estimating population parameters from a sample."
      ]
    },
    {
      "cell_type": "markdown",
      "metadata": {
        "id": "S0kMV1mrSdzt",
        "colab_type": "text"
      },
      "source": [
        "## 4. Learning outcomes"
      ]
    },
    {
      "cell_type": "markdown",
      "metadata": {
        "id": "lbiJfGpPSdzt",
        "colab_type": "text"
      },
      "source": [
        "Having completed this project notebook, you now have hands-on experience:\n",
        "* sampling and calculating probabilities from a normal distribution\n",
        "* identifying the correct way to estimate the standard deviation of a population (the population parameter) from a sample\n",
        "* with sampling distribution and now know how the Central Limit Theorem applies\n",
        "* with how to calculate critical values and confidence intervals"
      ]
    }
  ]
}