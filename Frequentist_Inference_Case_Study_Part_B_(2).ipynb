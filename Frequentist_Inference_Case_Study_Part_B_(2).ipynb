{
  "nbformat": 4,
  "nbformat_minor": 0,
  "metadata": {
    "kernelspec": {
      "display_name": "Python 3",
      "language": "python",
      "name": "python3"
    },
    "language_info": {
      "codemirror_mode": {
        "name": "ipython",
        "version": 3
      },
      "file_extension": ".py",
      "mimetype": "text/x-python",
      "name": "python",
      "nbconvert_exporter": "python",
      "pygments_lexer": "ipython3",
      "version": "3.7.3"
    },
    "colab": {
      "name": "Frequentist Inference Case Study - Part B (2).ipynb",
      "provenance": [],
      "toc_visible": true,
      "include_colab_link": true
    }
  },
  "cells": [
    {
      "cell_type": "markdown",
      "metadata": {
        "id": "view-in-github",
        "colab_type": "text"
      },
      "source": [
        "<a href=\"https://colab.research.google.com/github/villafue/Frequentist_Inference_Case_Study/blob/master/Frequentist_Inference_Case_Study_Part_B_(2).ipynb\" target=\"_parent\"><img src=\"https://colab.research.google.com/assets/colab-badge.svg\" alt=\"Open In Colab\"/></a>"
      ]
    },
    {
      "cell_type": "markdown",
      "metadata": {
        "id": "k3vFZcn38Jph",
        "colab_type": "text"
      },
      "source": [
        "# Frequentist Inference Case Study - Part B"
      ]
    },
    {
      "cell_type": "markdown",
      "metadata": {
        "id": "_94F9GxK8Jpi",
        "colab_type": "text"
      },
      "source": [
        "## Learning objectives"
      ]
    },
    {
      "cell_type": "markdown",
      "metadata": {
        "id": "ZZUSUNAP8Jpj",
        "colab_type": "text"
      },
      "source": [
        "Welcome to Part B of the Frequentist inference case study! The purpose of this case study is to help you apply the concepts associated with Frequentist inference in Python. In particular, you'll practice writing Python code to apply the following statistical concepts: \n",
        "* the _z_-statistic\n",
        "* the _t_-statistic\n",
        "* the difference and relationship between the two\n",
        "* the Central Limit Theorem, including its assumptions and consequences\n",
        "* how to estimate the population mean and standard deviation from a sample\n",
        "* the concept of a sampling distribution of a test statistic, particularly for the mean\n",
        "* how to combine these concepts to calculate a confidence interval"
      ]
    },
    {
      "cell_type": "markdown",
      "metadata": {
        "id": "ta4KZFJ58Jpj",
        "colab_type": "text"
      },
      "source": [
        "In the previous notebook, we used only data from a known normal distribution. **You'll now tackle real data, rather than simulated data, and answer some relevant real-world business problems using the data.**"
      ]
    },
    {
      "cell_type": "markdown",
      "metadata": {
        "id": "2BTrZP7K8Jpk",
        "colab_type": "text"
      },
      "source": [
        "## Hospital medical charges"
      ]
    },
    {
      "cell_type": "markdown",
      "metadata": {
        "id": "Iv7v-DiA8Jpl",
        "colab_type": "text"
      },
      "source": [
        "Imagine that a hospital has hired you as their data scientist. An administrator is working on the hospital's business operations plan and needs you to help them answer some business questions. \n",
        "\n",
        "In this assignment notebook, you're going to use frequentist statistical inference on a data sample to answer the questions:\n",
        "* has the hospital's revenue stream fallen below a key threshold?\n",
        "* are patients with insurance really charged different amounts than those without?\n",
        "\n",
        "Answering that last question with a frequentist approach makes some assumptions, and requires some knowledge, about the two groups."
      ]
    },
    {
      "cell_type": "markdown",
      "metadata": {
        "id": "U63km-VZ8Jpl",
        "colab_type": "text"
      },
      "source": [
        "We are going to use some data on medical charges obtained from [Kaggle](https://www.kaggle.com/easonlai/sample-insurance-claim-prediction-dataset). \n",
        "\n",
        "For the purposes of this exercise, assume the observations are the result of random sampling from our single hospital. Recall that in the previous assignment, we introduced the Central Limit Theorem (CLT), and its consequence that the distributions of sample statistics approach a normal distribution as $n$ increases. The amazing thing about this is that it applies to the sampling distributions of statistics that have been calculated from even highly non-normal distributions of data! Recall, also, that hypothesis testing is very much based on making inferences about such sample statistics. You're going to rely heavily on the CLT to apply frequentist (parametric) tests to answer the questions in this notebook."
      ]
    },
    {
      "cell_type": "code",
      "metadata": {
        "id": "O-KXzOiYKlq4",
        "colab_type": "code",
        "colab": {}
      },
      "source": [
        "import os\n",
        "os.chdir('sample_data')\n",
        "from IPython.display import display\n",
        "%matplotlib inline\n",
        "pd.set_option('display.notebook_repr_html', True)"
      ],
      "execution_count": 43,
      "outputs": []
    },
    {
      "cell_type": "code",
      "metadata": {
        "id": "W7Yhd8l5QGdw",
        "colab_type": "code",
        "colab": {}
      },
      "source": [
        "from statsmodels.distributions.empirical_distribution import ECDF"
      ],
      "execution_count": 20,
      "outputs": []
    },
    {
      "cell_type": "code",
      "metadata": {
        "id": "7GX6HBol8Jpm",
        "colab_type": "code",
        "colab": {}
      },
      "source": [
        "import pandas as pd\n",
        "import numpy as np\n",
        "import matplotlib.pyplot as plt\n",
        "from scipy.stats import t\n",
        "from numpy.random import seed\n",
        "medical = pd.read_csv('insurance2.csv')"
      ],
      "execution_count": 85,
      "outputs": []
    },
    {
      "cell_type": "code",
      "metadata": {
        "id": "hwpXPkXa8Jpq",
        "colab_type": "code",
        "colab": {
          "base_uri": "https://localhost:8080/",
          "height": 34
        },
        "outputId": "fcca2518-7784-4609-f684-0af6f7e8713a"
      },
      "source": [
        "medical.shape"
      ],
      "execution_count": 5,
      "outputs": [
        {
          "output_type": "execute_result",
          "data": {
            "text/plain": [
              "(1338, 8)"
            ]
          },
          "metadata": {
            "tags": []
          },
          "execution_count": 5
        }
      ]
    },
    {
      "cell_type": "code",
      "metadata": {
        "id": "vkn3gFa1yYw5",
        "colab_type": "code",
        "colab": {
          "base_uri": "https://localhost:8080/",
          "height": 269
        },
        "outputId": "0dbec1b9-6d05-457d-990a-4af5da971729"
      },
      "source": [
        "medical.info()"
      ],
      "execution_count": 38,
      "outputs": [
        {
          "output_type": "stream",
          "text": [
            "<class 'pandas.core.frame.DataFrame'>\n",
            "RangeIndex: 1338 entries, 0 to 1337\n",
            "Data columns (total 8 columns):\n",
            " #   Column          Non-Null Count  Dtype  \n",
            "---  ------          --------------  -----  \n",
            " 0   age             1338 non-null   int64  \n",
            " 1   sex             1338 non-null   int64  \n",
            " 2   bmi             1338 non-null   float64\n",
            " 3   children        1338 non-null   int64  \n",
            " 4   smoker          1338 non-null   int64  \n",
            " 5   region          1338 non-null   int64  \n",
            " 6   charges         1338 non-null   float64\n",
            " 7   insuranceclaim  1338 non-null   int64  \n",
            "dtypes: float64(2), int64(6)\n",
            "memory usage: 83.8 KB\n"
          ],
          "name": "stdout"
        }
      ]
    },
    {
      "cell_type": "code",
      "metadata": {
        "id": "hH0lVUD28Jpt",
        "colab_type": "code",
        "colab": {
          "base_uri": "https://localhost:8080/",
          "height": 195
        },
        "outputId": "af150dd8-e171-41f4-abfa-c0b2e93f0049"
      },
      "source": [
        "medical.head()"
      ],
      "execution_count": 6,
      "outputs": [
        {
          "output_type": "execute_result",
          "data": {
            "text/html": [
              "<div>\n",
              "<style scoped>\n",
              "    .dataframe tbody tr th:only-of-type {\n",
              "        vertical-align: middle;\n",
              "    }\n",
              "\n",
              "    .dataframe tbody tr th {\n",
              "        vertical-align: top;\n",
              "    }\n",
              "\n",
              "    .dataframe thead th {\n",
              "        text-align: right;\n",
              "    }\n",
              "</style>\n",
              "<table border=\"1\" class=\"dataframe\">\n",
              "  <thead>\n",
              "    <tr style=\"text-align: right;\">\n",
              "      <th></th>\n",
              "      <th>age</th>\n",
              "      <th>sex</th>\n",
              "      <th>bmi</th>\n",
              "      <th>children</th>\n",
              "      <th>smoker</th>\n",
              "      <th>region</th>\n",
              "      <th>charges</th>\n",
              "      <th>insuranceclaim</th>\n",
              "    </tr>\n",
              "  </thead>\n",
              "  <tbody>\n",
              "    <tr>\n",
              "      <th>0</th>\n",
              "      <td>19</td>\n",
              "      <td>0</td>\n",
              "      <td>27.900</td>\n",
              "      <td>0</td>\n",
              "      <td>1</td>\n",
              "      <td>3</td>\n",
              "      <td>16884.92400</td>\n",
              "      <td>1</td>\n",
              "    </tr>\n",
              "    <tr>\n",
              "      <th>1</th>\n",
              "      <td>18</td>\n",
              "      <td>1</td>\n",
              "      <td>33.770</td>\n",
              "      <td>1</td>\n",
              "      <td>0</td>\n",
              "      <td>2</td>\n",
              "      <td>1725.55230</td>\n",
              "      <td>1</td>\n",
              "    </tr>\n",
              "    <tr>\n",
              "      <th>2</th>\n",
              "      <td>28</td>\n",
              "      <td>1</td>\n",
              "      <td>33.000</td>\n",
              "      <td>3</td>\n",
              "      <td>0</td>\n",
              "      <td>2</td>\n",
              "      <td>4449.46200</td>\n",
              "      <td>0</td>\n",
              "    </tr>\n",
              "    <tr>\n",
              "      <th>3</th>\n",
              "      <td>33</td>\n",
              "      <td>1</td>\n",
              "      <td>22.705</td>\n",
              "      <td>0</td>\n",
              "      <td>0</td>\n",
              "      <td>1</td>\n",
              "      <td>21984.47061</td>\n",
              "      <td>0</td>\n",
              "    </tr>\n",
              "    <tr>\n",
              "      <th>4</th>\n",
              "      <td>32</td>\n",
              "      <td>1</td>\n",
              "      <td>28.880</td>\n",
              "      <td>0</td>\n",
              "      <td>0</td>\n",
              "      <td>1</td>\n",
              "      <td>3866.85520</td>\n",
              "      <td>1</td>\n",
              "    </tr>\n",
              "  </tbody>\n",
              "</table>\n",
              "</div>"
            ],
            "text/plain": [
              "   age  sex     bmi  children  smoker  region      charges  insuranceclaim\n",
              "0   19    0  27.900         0       1       3  16884.92400               1\n",
              "1   18    1  33.770         1       0       2   1725.55230               1\n",
              "2   28    1  33.000         3       0       2   4449.46200               0\n",
              "3   33    1  22.705         0       0       1  21984.47061               0\n",
              "4   32    1  28.880         0       0       1   3866.85520               1"
            ]
          },
          "metadata": {
            "tags": []
          },
          "execution_count": 6
        }
      ]
    },
    {
      "cell_type": "markdown",
      "metadata": {
        "id": "9w8kngUh8Jpw",
        "colab_type": "text"
      },
      "source": [
        "__Q1:__ Plot the histogram of charges and calculate the mean and standard deviation. Comment on the appropriateness of these statistics for the data."
      ]
    },
    {
      "cell_type": "markdown",
      "metadata": {
        "id": "k88ZJhG68Jpw",
        "colab_type": "text"
      },
      "source": [
        "## __A:__ This does not look like a normal distribution. There is also a lot of variance, and despite the spread, about 80% of the data fall below $20,000."
      ]
    },
    {
      "cell_type": "code",
      "metadata": {
        "id": "ezGtwMur8Jpx",
        "colab_type": "code",
        "colab": {
          "base_uri": "https://localhost:8080/",
          "height": 329
        },
        "outputId": "afa96fff-8c7a-4ff4-8aaf-c93495c4fe88"
      },
      "source": [
        "charges = medical.charges\n",
        "bins = bins=37\n",
        "_ = plt.hist(charges, bins=bins)\n",
        "_ = plt.xlabel('Medical Charges')\n",
        "_ = plt.ylabel('Number of Charges')\n",
        "_ = plt.title('Medical Charges in dollars')\n",
        "charges_mean = np.mean(charges)\n",
        "charges_std = np.std(charges, ddof=1)\n",
        "print('              The mean of the medical charges is: ', charges_mean)\n",
        "print('The standard deviation of the medical charges is: ', charges_std)\n",
        "_ = plt.axvline(charges_mean, color='r')\n",
        "_ = plt.axvline(charges_mean + charges_std, color='r', linestyle='--')\n",
        "_ = plt.axvline(charges_mean - charges_std, color='r', linestyle='--')\n",
        "_ = plt.axvline(charges_mean + 2*charges_std, color='r', linestyle='-.')\n",
        "# _ = plt.axvline(charges_mean - 2*charges_std, color='r', linestyle='-.')"
      ],
      "execution_count": 32,
      "outputs": [
        {
          "output_type": "stream",
          "text": [
            "              The mean of the medical charges is:  13270.422265141257\n",
            "The standard deviation of the medical charges is:  12110.011236693994\n"
          ],
          "name": "stdout"
        },
        {
          "output_type": "display_data",
          "data": {
            "image/png": "[encoded data removed]",
            "text/plain": [
              "<Figure size 432x288 with 1 Axes>"
            ]
          },
          "metadata": {
            "tags": [],
            "needs_background": "light"
          }
        }
      ]
    },
    {
      "cell_type": "code",
      "metadata": {
        "id": "q_owhzg38Jp0",
        "colab_type": "code",
        "colab": {
          "base_uri": "https://localhost:8080/",
          "height": 168
        },
        "outputId": "e445c997-71f9-4186-815f-7bd5b390985b"
      },
      "source": [
        "charges.describe()"
      ],
      "execution_count": 13,
      "outputs": [
        {
          "output_type": "execute_result",
          "data": {
            "text/plain": [
              "count     1338.000000\n",
              "mean     13270.422265\n",
              "std      12110.011237\n",
              "min       1121.873900\n",
              "25%       4740.287150\n",
              "50%       9382.033000\n",
              "75%      16639.912515\n",
              "max      63770.428010\n",
              "Name: charges, dtype: float64"
            ]
          },
          "metadata": {
            "tags": []
          },
          "execution_count": 13
        }
      ]
    },
    {
      "cell_type": "code",
      "metadata": {
        "id": "-fUbCLrENsHX",
        "colab_type": "code",
        "colab": {
          "base_uri": "https://localhost:8080/",
          "height": 282
        },
        "outputId": "c73f2afc-8325-4b80-ed3d-eced8e96e2ec"
      },
      "source": [
        "ecdf = ECDF(charges)\n",
        "plt.plot(ecdf.x, ecdf.y)\n",
        "plt.show()\n",
        "print('Approximately,', ecdf(20000)*100,'% of all the charges fall below $20,000')"
      ],
      "execution_count": 27,
      "outputs": [
        {
          "output_type": "display_data",
          "data": {
            "image/png": "[encoded data removed]",
            "text/plain": [
              "<Figure size 432x288 with 1 Axes>"
            ]
          },
          "metadata": {
            "tags": [],
            "needs_background": "light"
          }
        },
        {
          "output_type": "stream",
          "text": [
            "Approximately, 79.5964125560538 % of all the charges fall below $20,000\n"
          ],
          "name": "stdout"
        }
      ]
    },
    {
      "cell_type": "markdown",
      "metadata": {
        "id": "gUzNcQOY8Jp2",
        "colab_type": "text"
      },
      "source": [
        "__Q2:__ The administrator is concerned that the actual average charge has fallen below 12,000, threatening the hospital's operational model. On the assumption that these data represent a random sample of charges, how would you justify that these data allow you to answer that question? And what would be the most appropriate frequentist test, of the ones discussed so far, to apply?"
      ]
    },
    {
      "cell_type": "markdown",
      "metadata": {
        "id": "EGzlgNxB8Jp3",
        "colab_type": "text"
      },
      "source": [
        "__A:__ I would use a confidence interval. 1 sided confidence interval\n"
      ]
    },
    {
      "cell_type": "markdown",
      "metadata": {
        "id": "aX-Pjm7B8Jp3",
        "colab_type": "text"
      },
      "source": [
        "__Q3:__ Given the nature of the administrator's concern, what is the appropriate confidence interval in this case? A ***one-sided*** or ***two-sided*** interval? (Refresh your understanding of this concept on p. 399 of the *AoS*). Calculate the critical value and the relevant 95% confidence interval for the mean, and comment on whether the administrator should be concerned."
      ]
    },
    {
      "cell_type": "markdown",
      "metadata": {
        "id": "oow7HCL18Jp4",
        "colab_type": "text"
      },
      "source": [
        "# __A:__ Confidence Interval For a Sample: 1-Sided (Lower Bound)\n",
        "\n",
        "Step 1: Subtract 1 from your sample size. Ex. N - 1 = 49 This gives you degrees of freedom, which you’ll need in step 3.\n",
        "\n",
        "Step 2: Subtract the confidence level from 1. (1 – .95 = .05)\n",
        "\n",
        "Step 3: Look up your answers to step 1 and 2 in the t-distribution table. Ex. for 9 degrees of freedom (df) and α = 0.025, my result is 2.262. For 49, I will use t.ppf(p, df) which is t.ppf(0.975, 49) = 2.01. This is known as the T-Critical Value.\n",
        "\n",
        "Step 4: Divide your sample standard deviation by the square root of your sample size. (4.195 / √(50) = 0.593) This is also known as the Standard Error. \n",
        "\n",
        "Step 5: Multiply step 3 by step 4. This is known as the Margin of Error.2.01 × 0.593 = 1.192\n",
        "\n",
        "Step 6: Subtract Step 5 from the Sample Mean (Margin of Error - Mean) to find the Lower Bound Limit."
      ]
    },
    {
      "cell_type": "code",
      "metadata": {
        "id": "k9AJz5X38Jp4",
        "colab_type": "code",
        "colab": {
          "base_uri": "https://localhost:8080/",
          "height": 50
        },
        "outputId": "efd49072-2518-455d-a005-69f092b2fe5e"
      },
      "source": [
        "stan_err = charges_std / np.sqrt(len(charges))\n",
        "t_crit_val = t.ppf(.95, len(charges) - 1)\n",
        "marg_err_t = t_crit_val * stan_err\n",
        "t_conf_int_low = charges_mean - marg_err_t\n",
        "H1 = 12000\n",
        "print('                              The Lower limit of the Confidence Interval is: ', t_conf_int_low)\n",
        "print('Difference between 12k threshold and Lower Limit of the Confidence Interval: ', t_conf_int_low - H1)\n",
        "\n"
      ],
      "execution_count": 35,
      "outputs": [
        {
          "output_type": "stream",
          "text": [
            "                              The Lower limit of the Confidence Interval is:  12725.48718381623\n",
            "Difference between 12k threshold and Lower Limit of the Confidence Interval:  725.4871838162308\n"
          ],
          "name": "stdout"
        }
      ]
    },
    {
      "cell_type": "markdown",
      "metadata": {
        "id": "3Fvph204qaCE",
        "colab_type": "text"
      },
      "source": [
        "__A:__ I would tell the hospital Administrator that I computed, with 95% confidence, that the lower-end of the range of the mean I computed is still over 700 dollars above the $12,000 limit. "
      ]
    },
    {
      "cell_type": "code",
      "metadata": {
        "id": "tN_mkqD68Jp7",
        "colab_type": "code",
        "colab": {}
      },
      "source": [
        "# __A:__"
      ],
      "execution_count": null,
      "outputs": []
    },
    {
      "cell_type": "code",
      "metadata": {
        "id": "vuAxKBSI8Jp9",
        "colab_type": "code",
        "colab": {}
      },
      "source": [
        "pulled standard deviation, s = variance, x-bar = mean"
      ],
      "execution_count": null,
      "outputs": []
    },
    {
      "cell_type": "markdown",
      "metadata": {
        "id": "Qf4tAF4t8JqA",
        "colab_type": "text"
      },
      "source": [
        "The administrator then wants to know whether people with insurance really are charged a different amount to those without.\n",
        "\n",
        "__Q4:__ State the null and alternative hypothesis here. Use the _t_-test for the difference between means, where the pooled standard deviation of the two groups is given by:\n",
        "\\begin{equation}\n",
        "s_p = \\sqrt{\\frac{(n_0 - 1)s^2_0 + (n_1 - 1)s^2_1}{n_0 + n_1 - 2}}\n",
        "\\end{equation}\n",
        "\n",
        "and the *t*-test statistic is then given by:\n",
        "\n",
        "\\begin{equation}\n",
        "t = \\frac{\\bar{x}_0 - \\bar{x}_1}{s_p \\sqrt{1/n_0 + 1/n_1}}.\n",
        "\\end{equation}\n",
        "\n",
        "(If you need some reminding of the general definition of ***t-statistic***, check out the definition on p. 404 of *AoS*). \n",
        "\n",
        "What assumption about the variances of the two groups are we making here?"
      ]
    },
    {
      "cell_type": "markdown",
      "metadata": {
        "id": "c-OAFLSU8JqB",
        "colab_type": "text"
      },
      "source": [
        "__A:__ The Null Hypothesis is that the two groups are not charged differently whether or not they have insurance.\n",
        "\n",
        "The Alternative Hypothesis is that the people with insurance are charged differently than those without it."
      ]
    },
    {
      "cell_type": "markdown",
      "metadata": {
        "id": "tyKQJAJ18JqC",
        "colab_type": "text"
      },
      "source": [
        "__Q5:__ Perform this hypothesis test both manually, using the above formulae, and then using the appropriate function from [scipy.stats](https://docs.scipy.org/doc/scipy/reference/stats.html#statistical-tests) (hint, you're looking for a function to perform a _t_-test on two independent samples). For the manual approach, calculate the value of the test statistic and then its probability (the p-value). Verify you get the same results from both."
      ]
    },
    {
      "cell_type": "markdown",
      "metadata": {
        "id": "crORhOmf8JqC",
        "colab_type": "text"
      },
      "source": [
        "__A:__ "
      ]
    },
    {
      "cell_type": "code",
      "metadata": {
        "id": "t6LRpgEK8JqE",
        "colab_type": "code",
        "colab": {
          "base_uri": "https://localhost:8080/",
          "height": 319
        },
        "outputId": "2146ca95-911d-4048-adf4-637da391a218"
      },
      "source": [
        "med1 = medical.query('insuranceclaim == 1')\n",
        "charges_1 = med1.charges\n",
        "med0 = medical.query('insuranceclaim == 0')\n",
        "charges_0 = med0.charges\n",
        "print(   'Patients with insurance: ',charges_1.describe().T)\n",
        "print('Patients without insurance: ',charges_0.describe().T)"
      ],
      "execution_count": 51,
      "outputs": [
        {
          "output_type": "stream",
          "text": [
            "Patients with insurance:  count      783.000000\n",
            "mean     16423.928277\n",
            "std      14045.928419\n",
            "min       1131.506600\n",
            "25%       5733.288925\n",
            "50%      11538.421000\n",
            "75%      23484.788875\n",
            "max      63770.428010\n",
            "Name: charges, dtype: float64\n",
            "Patients without insurance:  count      555.000000\n",
            "mean      8821.421892\n",
            "std       6446.510127\n",
            "min       1121.873900\n",
            "25%       4445.337575\n",
            "50%       6933.242250\n",
            "75%      11424.211575\n",
            "max      36910.608030\n",
            "Name: charges, dtype: float64\n"
          ],
          "name": "stdout"
        }
      ]
    },
    {
      "cell_type": "markdown",
      "metadata": {
        "id": "VfE6A6ETBBQ4",
        "colab_type": "text"
      },
      "source": [
        "# _A:_ Instructions on how to calculate t-statistic and corresponding p-value for 2 different sample populations.\n"
      ]
    },
    {
      "cell_type": "code",
      "metadata": {
        "id": "PEDN5QIP8JqH",
        "colab_type": "code",
        "colab": {
          "base_uri": "https://localhost:8080/",
          "height": 34
        },
        "outputId": "1c1ab567-562d-445d-e28d-6e6f078599a2"
      },
      "source": [
        "h0 = charges_0\n",
        "h1 = charges_1\n",
        "\n",
        "# Step 1: Calculations for Pooled Variance (Sp):\n",
        "h0var = np.var(h0)\n",
        "h1var = np.var(h1)\n",
        "SpNum1 = (((len(h0) - 1) * h0var ** 2) + ((len(h1) - 1) * h1var ** 2))\n",
        "SpDen2 = len(h0) + len(h1) - 2\n",
        "Sp = np.sqrt(SpNum1 / SpDen2)\n",
        "\n",
        "# Step 2: Calculations for t-test statistic (t):\n",
        "h0mean = np.mean(h0)\n",
        "h1mean = np.mean(h1)\n",
        "tnum1 = h0mean - h1mean\n",
        "tden2 = (1 / len(h0)) + (1 / len(h1))\n",
        "tden3 = Sp * np.sqrt(tden2)\n",
        "t = tnum1 / tden3\n",
        "\n",
        "# Step 3: Calculate Degrees of Freedom:\n",
        "d_free = (len(h0) - 1) + (len(h1) - 1)\n",
        "t"
      ],
      "execution_count": 100,
      "outputs": [
        {
          "output_type": "execute_result",
          "data": {
            "text/plain": [
              "-0.0008949448957080473"
            ]
          },
          "metadata": {
            "tags": []
          },
          "execution_count": 100
        }
      ]
    },
    {
      "cell_type": "code",
      "metadata": {
        "id": "ncmwfdjj8JqL",
        "colab_type": "code",
        "colab": {
          "base_uri": "https://localhost:8080/",
          "height": 34
        },
        "outputId": "ebfb96a0-98e0-4cb9-f559-e542e980f52e"
      },
      "source": [
        "# Step 4: Calculate t-Critical Value:\n",
        "from scipy.stats import t\n",
        "t_crit_val = t.ppf(.95, d_free)\n",
        "t_crit_val"
      ],
      "execution_count": 93,
      "outputs": [
        {
          "output_type": "execute_result",
          "data": {
            "text/plain": [
              "1.6459949688112576"
            ]
          },
          "metadata": {
            "tags": []
          },
          "execution_count": 93
        }
      ]
    },
    {
      "cell_type": "code",
      "metadata": {
        "id": "C4Ut-c35Hc0N",
        "colab_type": "code",
        "colab": {
          "base_uri": "https://localhost:8080/",
          "height": 34
        },
        "outputId": "97a3b18b-3c05-444f-ca16-02efcd127c5d"
      },
      "source": [
        "from scipy.stats import ttest_ind\n",
        "ttest_ind(h0,h1, equal_var=False)"
      ],
      "execution_count": 98,
      "outputs": [
        {
          "output_type": "execute_result",
          "data": {
            "text/plain": [
              "Ttest_indResult(statistic=-13.298031957975649, pvalue=1.1105103216309125e-37)"
            ]
          },
          "metadata": {
            "tags": []
          },
          "execution_count": 98
        }
      ]
    },
    {
      "cell_type": "markdown",
      "metadata": {
        "id": "LXqyldDx5SBD",
        "colab_type": "text"
      },
      "source": [
        "\\begin{equation}\n",
        "s_p = \\sqrt{\\frac{(n_0 - 1)s^2_0 + (n_1 - 1)s^2_1}{n_0 + n_1 - 2}}\n",
        "\\end{equation}\n",
        "\n",
        "and the *t*-test statistic is then given by:\n",
        "\n",
        "\\begin{equation}\n",
        "t = \\frac{\\bar{x}_0 - \\bar{x}_1}{s_p \\sqrt{1/n_0 + 1/n_1}}.\n",
        "\\end{equation}"
      ]
    },
    {
      "cell_type": "code",
      "metadata": {
        "id": "o_1Fdpl38JqO",
        "colab_type": "code",
        "colab": {}
      },
      "source": [
        ""
      ],
      "execution_count": null,
      "outputs": []
    },
    {
      "cell_type": "markdown",
      "metadata": {
        "id": "CrCncckt8JqR",
        "colab_type": "text"
      },
      "source": [
        "Congratulations! Hopefully you got the exact same numerical results. This shows that you correctly calculated the numbers by hand. Secondly, you used the correct function and saw that it's much easier to use. All you need to do is pass your data to it."
      ]
    },
    {
      "cell_type": "markdown",
      "metadata": {
        "id": "lC7d53t18JqR",
        "colab_type": "text"
      },
      "source": [
        "__Q6:__ Conceptual question: look through the documentation for statistical test functions in scipy.stats. You'll see the above _t_-test for a sample, but can you see an equivalent one for performing a *z*-test from a sample? Comment on your answer."
      ]
    },
    {
      "cell_type": "markdown",
      "metadata": {
        "id": "MSnsMrL08JqR",
        "colab_type": "text"
      },
      "source": [
        "__A:__"
      ]
    },
    {
      "cell_type": "markdown",
      "metadata": {
        "id": "FSbGJ63Y8JqS",
        "colab_type": "text"
      },
      "source": [
        "## Learning outcomes"
      ]
    },
    {
      "cell_type": "markdown",
      "metadata": {
        "id": "n3M3IrCp8JqS",
        "colab_type": "text"
      },
      "source": [
        "Having completed this project notebook, you now have good hands-on experience:\n",
        "* using the central limit theorem to help you apply frequentist techniques to answer questions that pertain to very non-normally distributed data from the real world\n",
        "* performing inference using such data to answer business questions\n",
        "* forming a hypothesis and framing the null and alternative hypotheses\n",
        "* testing this using a _t_-test"
      ]
    }
  ]
}